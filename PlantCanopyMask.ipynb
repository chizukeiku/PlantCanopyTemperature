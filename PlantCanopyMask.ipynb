{
  "nbformat": 4,
  "nbformat_minor": 0,
  "metadata": {
    "colab": {
      "provenance": [],
      "authorship_tag": "ABX9TyOlcrrMAZw1M1d2y/YB+pWR",
      "include_colab_link": true
    },
    "kernelspec": {
      "name": "python3",
      "display_name": "Python 3"
    },
    "language_info": {
      "name": "python"
    }
  },
  "cells": [
    {
      "cell_type": "markdown",
      "metadata": {
        "id": "view-in-github",
        "colab_type": "text"
      },
      "source": [
        "<a href=\"https://colab.research.google.com/github/chizukeiku/PlantCanopyTemperature/blob/main/PlantCanopyMask.ipynb\" target=\"_parent\"><img src=\"https://colab.research.google.com/assets/colab-badge.svg\" alt=\"Open In Colab\"/></a>"
      ]
    },
    {
      "cell_type": "code",
      "execution_count": null,
      "metadata": {
        "id": "2QUNJjxERBv7"
      },
      "outputs": [],
      "source": [
        "!git clone https://github.com/chizukeiku/PlantCanopyTemperature.git # git clone\n",
        "%cd PlantCanopyTemperature\n",
        "\n",
        "%pip install plantcv # install library\n",
        "%pip install altair"
      ]
    },
    {
      "cell_type": "code",
      "source": [
        "!ls # list files in directory"
      ],
      "metadata": {
        "id": "OXy-WovMRu9o"
      },
      "execution_count": null,
      "outputs": []
    },
    {
      "cell_type": "code",
      "source": [
        "# modules needed\n",
        "import os\n",
        "import cv2 as cv\n",
        "import numpy as np\n",
        "import pandas as pd\n",
        "from plantcv.plantcv import print_image\n",
        "from plantcv.plantcv import plot_image\n",
        "from plantcv.plantcv import fatal_error\n",
        "from plantcv.plantcv import params\n",
        "from plantcv.plantcv import outputs\n",
        "from plotnine import ggplot, geom_label, aes, geom_line\n",
        "from matplotlib import pyplot as plt\n",
        "import matplotlib\n",
        "from plantcv import plantcv as pcv"
      ],
      "metadata": {
        "id": "Ogiy-VRYRxWz"
      },
      "execution_count": null,
      "outputs": []
    },
    {
      "cell_type": "code",
      "source": [
        "# raw plant thermal image here\n",
        "# Img = cv.imread('change_file_here.PNG')\n",
        "\n",
        "Img = cv.imread('plant_image/plant_image (1).PNG')\n",
        "Img_gry = cv.cvtColor(Img, cv.COLOR_BGR2GRAY)\n",
        "plt.imshow(Img_gry, cmap='gray')\n",
        "plt.show()"
      ],
      "metadata": {
        "id": "oCDTzo10SBB-"
      },
      "execution_count": null,
      "outputs": []
    },
    {
      "cell_type": "code",
      "execution_count": null,
      "metadata": {
        "scrolled": false,
        "id": "4bb6baed"
      },
      "outputs": [],
      "source": [
        "# masking\n",
        "\n",
        "# set figure size for the notebook\n",
        "matplotlib.rcParams['figure.figsize'] = [8,8]\n",
        "\n",
        "class options:\n",
        "    def __init__(self):\n",
        "        self.image = \"plant_image/plant_image (1).jpg\" # plant RGB image path (mask)\n",
        "        self.debug = \"plot\"\n",
        "        self.writeimg = False\n",
        "        self.result = \"result.txt\"\n",
        "        self.outdir = \".\"\n",
        "args = options()\n",
        "pcv.params.outdir = args.outdir\n",
        "pcv.params.debug = args.debug\n",
        "\n",
        "# increase text size in image plots\n",
        "pcv.params.text_size = 20\n",
        "pcv.params.text_thickness = 10\n",
        "# read the image\n",
        "img, path, filename = pcv.readimage(filename=args.image)\n",
        "\n",
        "# change image color\n",
        "image = pcv.rgb2gray_lab(rgb_img=img, channel=\"l\")\n",
        "\n",
        "# image segmentation with binary threshold\n",
        "# mask_method = pcv.threshold.binary(gray_img=l, threshold=insert_desired_value, max_value=256, object_type=\"dark\")\n",
        "mask_method = pcv.threshold.binary(gray_img=l, threshold=70, max_value=256, object_type=\"dark\")\n",
        "\n",
        "# fill in some holes in segmented image\n",
        "# fill_mask = pcv.fill(bin_img=mask_method, size=insert_desired_value)\n",
        "fill_mask = pcv.fill(bin_img=mask_method, size=7)\n",
        "\n",
        "id_objects, obj_hierarchy = pcv.find_objects(img=img, mask=fill_mask)\n",
        "\n",
        "# plant region of interest\n",
        "# roi_circle, roi_hier_circle = pcv.roi.circle(img=img, x=insert_desired_value, y=insert_desired_value, r=insert_desired_value)\n",
        "roi_circle, roi_hier_circle = pcv.roi.circle(img=img, x=67, y=45, r=35)\n",
        "\n",
        "roi_objects, hierarchy, kept_mask, obj_area = pcv.roi_objects(img=img, roi_contour=roi_circle, roi_hierarchy=roi_hier_circle, object_contour=id_objects, obj_hierarchy=obj_hierarchy, roi_type='cutto')\n",
        "mask = pcv.fill(bin_img=kept_mask, size=500)"
      ]
    },
    {
      "cell_type": "code",
      "source": [
        "# clip mask\n",
        "mask_thermal = pcv.apply_mask(img=mask, mask=mask, mask_color=\"black\")\n",
        "plt.imshow(mask_thermal)\n",
        "plt.show()"
      ],
      "metadata": {
        "id": "5OLBxFd8ST5v"
      },
      "execution_count": null,
      "outputs": []
    },
    {
      "cell_type": "code",
      "source": [
        "# export mask\n",
        "pcv.print_image(mask_thermal, 'mask.tiff')"
      ],
      "metadata": {
        "id": "m3dQHLxASWVA"
      },
      "execution_count": null,
      "outputs": []
    }
  ]
}